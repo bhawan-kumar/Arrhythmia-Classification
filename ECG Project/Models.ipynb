{
 "cells": [
  {
   "cell_type": "markdown",
   "id": "9d91a42d",
   "metadata": {},
   "source": [
    "### SVM(Support Vector Machine) with feature scaling"
   ]
  },
  {
   "cell_type": "code",
   "execution_count": 1,
   "id": "29940aa4",
   "metadata": {},
   "outputs": [],
   "source": [
    "from sklearn.metrics import accuracy_score, f1_score, classification_report, confusion_matrix\n",
    "from sklearn.preprocessing import StandardScaler, LabelEncoder\n",
    "from sklearn.model_selection import train_test_split, GridSearchCV\n",
    "from sklearn.ensemble import GradientBoostingClassifier\n",
    "import matplotlib.pyplot as plt\n",
    "from sklearn import svm\n",
    "import seaborn as sns\n",
    "import pandas as pd\n",
    "import numpy as np"
   ]
  },
  {
   "cell_type": "code",
   "execution_count": 2,
   "id": "07a01ca6",
   "metadata": {},
   "outputs": [],
   "source": [
    "df = pd.read_csv(\"./updated_features1.csv\")"
   ]
  },
  {
   "cell_type": "code",
   "execution_count": 3,
   "id": "694c0b3f",
   "metadata": {},
   "outputs": [
    {
     "data": {
      "text/html": [
       "<div>\n",
       "<style scoped>\n",
       "    .dataframe tbody tr th:only-of-type {\n",
       "        vertical-align: middle;\n",
       "    }\n",
       "\n",
       "    .dataframe tbody tr th {\n",
       "        vertical-align: top;\n",
       "    }\n",
       "\n",
       "    .dataframe thead th {\n",
       "        text-align: right;\n",
       "    }\n",
       "</style>\n",
       "<table border=\"1\" class=\"dataframe\">\n",
       "  <thead>\n",
       "    <tr style=\"text-align: right;\">\n",
       "      <th></th>\n",
       "      <th>HRV</th>\n",
       "      <th>SDSD</th>\n",
       "      <th>SDNN</th>\n",
       "      <th>RMSSD</th>\n",
       "      <th>PNN50</th>\n",
       "      <th>TINN</th>\n",
       "      <th>HTI</th>\n",
       "      <th>APEN</th>\n",
       "      <th>SD1</th>\n",
       "      <th>SD2</th>\n",
       "      <th>SDRatio</th>\n",
       "      <th>PLF</th>\n",
       "      <th>PHF</th>\n",
       "      <th>LFHFRatio</th>\n",
       "      <th>VLF</th>\n",
       "      <th>LF</th>\n",
       "      <th>HF</th>\n",
       "      <th>Class</th>\n",
       "    </tr>\n",
       "  </thead>\n",
       "  <tbody>\n",
       "    <tr>\n",
       "      <th>0</th>\n",
       "      <td>0.908052</td>\n",
       "      <td>0.063515</td>\n",
       "      <td>5.642670</td>\n",
       "      <td>0.918895</td>\n",
       "      <td>1.0</td>\n",
       "      <td>0.015625</td>\n",
       "      <td>5.0</td>\n",
       "      <td>-0.033886</td>\n",
       "      <td>0.044912</td>\n",
       "      <td>7.600414</td>\n",
       "      <td>0.005721</td>\n",
       "      <td>80.762525</td>\n",
       "      <td>19.237475</td>\n",
       "      <td>4.198197</td>\n",
       "      <td>2.355132</td>\n",
       "      <td>0.090640</td>\n",
       "      <td>0.021664</td>\n",
       "      <td>GSVT</td>\n",
       "    </tr>\n",
       "    <tr>\n",
       "      <th>1</th>\n",
       "      <td>1.072700</td>\n",
       "      <td>0.180842</td>\n",
       "      <td>5.910351</td>\n",
       "      <td>1.087850</td>\n",
       "      <td>1.0</td>\n",
       "      <td>0.015625</td>\n",
       "      <td>5.0</td>\n",
       "      <td>0.128246</td>\n",
       "      <td>0.127875</td>\n",
       "      <td>7.923999</td>\n",
       "      <td>0.016138</td>\n",
       "      <td>82.000059</td>\n",
       "      <td>17.999941</td>\n",
       "      <td>4.555574</td>\n",
       "      <td>2.592221</td>\n",
       "      <td>0.129439</td>\n",
       "      <td>0.028416</td>\n",
       "      <td>AFIB</td>\n",
       "    </tr>\n",
       "    <tr>\n",
       "      <th>2</th>\n",
       "      <td>1.980903</td>\n",
       "      <td>0.530627</td>\n",
       "      <td>5.876639</td>\n",
       "      <td>2.050607</td>\n",
       "      <td>1.0</td>\n",
       "      <td>0.015625</td>\n",
       "      <td>3.0</td>\n",
       "      <td>-0.117783</td>\n",
       "      <td>0.375210</td>\n",
       "      <td>7.544863</td>\n",
       "      <td>0.049727</td>\n",
       "      <td>79.533708</td>\n",
       "      <td>20.466292</td>\n",
       "      <td>3.886083</td>\n",
       "      <td>2.608582</td>\n",
       "      <td>0.181173</td>\n",
       "      <td>0.046686</td>\n",
       "      <td>AFIB</td>\n",
       "    </tr>\n",
       "    <tr>\n",
       "      <th>3</th>\n",
       "      <td>0.519595</td>\n",
       "      <td>0.420627</td>\n",
       "      <td>5.479227</td>\n",
       "      <td>0.688756</td>\n",
       "      <td>1.0</td>\n",
       "      <td>0.015625</td>\n",
       "      <td>9.5</td>\n",
       "      <td>-0.015702</td>\n",
       "      <td>0.297428</td>\n",
       "      <td>7.532173</td>\n",
       "      <td>0.039433</td>\n",
       "      <td>81.805008</td>\n",
       "      <td>18.194992</td>\n",
       "      <td>4.496253</td>\n",
       "      <td>2.743589</td>\n",
       "      <td>0.070468</td>\n",
       "      <td>0.014770</td>\n",
       "      <td>GSVT</td>\n",
       "    </tr>\n",
       "    <tr>\n",
       "      <th>4</th>\n",
       "      <td>1.326730</td>\n",
       "      <td>0.327176</td>\n",
       "      <td>5.804215</td>\n",
       "      <td>1.366546</td>\n",
       "      <td>1.0</td>\n",
       "      <td>0.015625</td>\n",
       "      <td>4.0</td>\n",
       "      <td>0.024913</td>\n",
       "      <td>0.231348</td>\n",
       "      <td>7.675483</td>\n",
       "      <td>0.030142</td>\n",
       "      <td>81.627847</td>\n",
       "      <td>18.372153</td>\n",
       "      <td>4.443020</td>\n",
       "      <td>3.301605</td>\n",
       "      <td>0.204897</td>\n",
       "      <td>0.046112</td>\n",
       "      <td>AFIB</td>\n",
       "    </tr>\n",
       "    <tr>\n",
       "      <th>5</th>\n",
       "      <td>1.151367</td>\n",
       "      <td>0.003380</td>\n",
       "      <td>5.640783</td>\n",
       "      <td>1.151494</td>\n",
       "      <td>1.0</td>\n",
       "      <td>0.015625</td>\n",
       "      <td>4.0</td>\n",
       "      <td>-0.064539</td>\n",
       "      <td>0.002390</td>\n",
       "      <td>7.506334</td>\n",
       "      <td>0.000318</td>\n",
       "      <td>81.832097</td>\n",
       "      <td>18.167903</td>\n",
       "      <td>4.504213</td>\n",
       "      <td>2.912595</td>\n",
       "      <td>0.148940</td>\n",
       "      <td>0.033092</td>\n",
       "      <td>GSVT</td>\n",
       "    </tr>\n",
       "    <tr>\n",
       "      <th>6</th>\n",
       "      <td>0.544364</td>\n",
       "      <td>0.001887</td>\n",
       "      <td>5.655564</td>\n",
       "      <td>0.544368</td>\n",
       "      <td>1.0</td>\n",
       "      <td>0.015625</td>\n",
       "      <td>9.0</td>\n",
       "      <td>-0.027754</td>\n",
       "      <td>0.001335</td>\n",
       "      <td>7.775834</td>\n",
       "      <td>0.000172</td>\n",
       "      <td>81.481495</td>\n",
       "      <td>18.518505</td>\n",
       "      <td>4.400004</td>\n",
       "      <td>2.872678</td>\n",
       "      <td>0.072375</td>\n",
       "      <td>0.016454</td>\n",
       "      <td>GSVT</td>\n",
       "    </tr>\n",
       "    <tr>\n",
       "      <th>7</th>\n",
       "      <td>1.746484</td>\n",
       "      <td>0.208049</td>\n",
       "      <td>5.666119</td>\n",
       "      <td>1.758834</td>\n",
       "      <td>1.0</td>\n",
       "      <td>0.015625</td>\n",
       "      <td>4.0</td>\n",
       "      <td>-0.105361</td>\n",
       "      <td>0.147113</td>\n",
       "      <td>7.337083</td>\n",
       "      <td>0.020050</td>\n",
       "      <td>74.536944</td>\n",
       "      <td>25.463056</td>\n",
       "      <td>2.927260</td>\n",
       "      <td>2.438525</td>\n",
       "      <td>0.144999</td>\n",
       "      <td>0.049534</td>\n",
       "      <td>SA</td>\n",
       "    </tr>\n",
       "    <tr>\n",
       "      <th>8</th>\n",
       "      <td>1.461238</td>\n",
       "      <td>0.119478</td>\n",
       "      <td>6.002428</td>\n",
       "      <td>1.466089</td>\n",
       "      <td>1.0</td>\n",
       "      <td>0.015625</td>\n",
       "      <td>4.0</td>\n",
       "      <td>-0.080043</td>\n",
       "      <td>0.084484</td>\n",
       "      <td>7.914758</td>\n",
       "      <td>0.010674</td>\n",
       "      <td>80.329552</td>\n",
       "      <td>19.670448</td>\n",
       "      <td>4.083768</td>\n",
       "      <td>3.582712</td>\n",
       "      <td>0.207991</td>\n",
       "      <td>0.050945</td>\n",
       "      <td>SA</td>\n",
       "    </tr>\n",
       "    <tr>\n",
       "      <th>9</th>\n",
       "      <td>2.116211</td>\n",
       "      <td>0.046002</td>\n",
       "      <td>5.643520</td>\n",
       "      <td>2.116839</td>\n",
       "      <td>1.0</td>\n",
       "      <td>0.015625</td>\n",
       "      <td>2.5</td>\n",
       "      <td>-0.125657</td>\n",
       "      <td>0.032528</td>\n",
       "      <td>7.289371</td>\n",
       "      <td>0.004743</td>\n",
       "      <td>79.317211</td>\n",
       "      <td>20.682789</td>\n",
       "      <td>3.834955</td>\n",
       "      <td>2.536577</td>\n",
       "      <td>0.194250</td>\n",
       "      <td>0.052478</td>\n",
       "      <td>SB</td>\n",
       "    </tr>\n",
       "  </tbody>\n",
       "</table>\n",
       "</div>"
      ],
      "text/plain": [
       "        HRV      SDSD      SDNN     RMSSD  PNN50      TINN  HTI      APEN  \\\n",
       "0  0.908052  0.063515  5.642670  0.918895    1.0  0.015625  5.0 -0.033886   \n",
       "1  1.072700  0.180842  5.910351  1.087850    1.0  0.015625  5.0  0.128246   \n",
       "2  1.980903  0.530627  5.876639  2.050607    1.0  0.015625  3.0 -0.117783   \n",
       "3  0.519595  0.420627  5.479227  0.688756    1.0  0.015625  9.5 -0.015702   \n",
       "4  1.326730  0.327176  5.804215  1.366546    1.0  0.015625  4.0  0.024913   \n",
       "5  1.151367  0.003380  5.640783  1.151494    1.0  0.015625  4.0 -0.064539   \n",
       "6  0.544364  0.001887  5.655564  0.544368    1.0  0.015625  9.0 -0.027754   \n",
       "7  1.746484  0.208049  5.666119  1.758834    1.0  0.015625  4.0 -0.105361   \n",
       "8  1.461238  0.119478  6.002428  1.466089    1.0  0.015625  4.0 -0.080043   \n",
       "9  2.116211  0.046002  5.643520  2.116839    1.0  0.015625  2.5 -0.125657   \n",
       "\n",
       "        SD1       SD2   SDRatio        PLF        PHF  LFHFRatio       VLF  \\\n",
       "0  0.044912  7.600414  0.005721  80.762525  19.237475   4.198197  2.355132   \n",
       "1  0.127875  7.923999  0.016138  82.000059  17.999941   4.555574  2.592221   \n",
       "2  0.375210  7.544863  0.049727  79.533708  20.466292   3.886083  2.608582   \n",
       "3  0.297428  7.532173  0.039433  81.805008  18.194992   4.496253  2.743589   \n",
       "4  0.231348  7.675483  0.030142  81.627847  18.372153   4.443020  3.301605   \n",
       "5  0.002390  7.506334  0.000318  81.832097  18.167903   4.504213  2.912595   \n",
       "6  0.001335  7.775834  0.000172  81.481495  18.518505   4.400004  2.872678   \n",
       "7  0.147113  7.337083  0.020050  74.536944  25.463056   2.927260  2.438525   \n",
       "8  0.084484  7.914758  0.010674  80.329552  19.670448   4.083768  3.582712   \n",
       "9  0.032528  7.289371  0.004743  79.317211  20.682789   3.834955  2.536577   \n",
       "\n",
       "         LF        HF Class  \n",
       "0  0.090640  0.021664  GSVT  \n",
       "1  0.129439  0.028416  AFIB  \n",
       "2  0.181173  0.046686  AFIB  \n",
       "3  0.070468  0.014770  GSVT  \n",
       "4  0.204897  0.046112  AFIB  \n",
       "5  0.148940  0.033092  GSVT  \n",
       "6  0.072375  0.016454  GSVT  \n",
       "7  0.144999  0.049534    SA  \n",
       "8  0.207991  0.050945    SA  \n",
       "9  0.194250  0.052478    SB  "
      ]
     },
     "execution_count": 3,
     "metadata": {},
     "output_type": "execute_result"
    }
   ],
   "source": [
    "df.head(10)"
   ]
  },
  {
   "cell_type": "code",
   "execution_count": null,
   "id": "968fd9f5",
   "metadata": {},
   "outputs": [],
   "source": []
  },
  {
   "cell_type": "markdown",
   "id": "26cf3e16",
   "metadata": {},
   "source": [
    "### Feature Scaling"
   ]
  },
  {
   "cell_type": "code",
   "execution_count": 11,
   "id": "c8756c99",
   "metadata": {},
   "outputs": [
    {
     "data": {
      "text/plain": [
       "array([1, 0, 0, ..., 0, 0, 0])"
      ]
     },
     "execution_count": 11,
     "metadata": {},
     "output_type": "execute_result"
    }
   ],
   "source": [
    "classList = df.iloc[:, -1]\n",
    "convertor = LabelEncoder()\n",
    "Y = convertor.fit_transform(classList)\n",
    "Y"
   ]
  },
  {
   "cell_type": "code",
   "execution_count": 12,
   "id": "d3947362",
   "metadata": {},
   "outputs": [
    {
     "data": {
      "text/plain": [
       "{0: 'AFIB', 1: 'GSVT', 2: 'SA', 3: 'SB', 4: 'SR'}"
      ]
     },
     "execution_count": 12,
     "metadata": {},
     "output_type": "execute_result"
    }
   ],
   "source": [
    "dict(enumerate(convertor.classes_))"
   ]
  },
  {
   "cell_type": "code",
   "execution_count": 13,
   "id": "bd1d272b",
   "metadata": {},
   "outputs": [
    {
     "data": {
      "text/plain": [
       "array([[-1.28456778, -0.29840352,  0.09833725, ..., -0.65540195,\n",
       "        -1.21270515, -1.32340512],\n",
       "       [-0.97291611,  0.50576379,  1.34298072, ..., -0.12936319,\n",
       "        -0.6240159 , -0.91389081],\n",
       "       [ 0.74616921,  2.90321171,  1.18622862, ..., -0.09306054,\n",
       "         0.16092978,  0.1941742 ],\n",
       "       ...,\n",
       "       [ 0.65908532,  2.64495768,  0.45377194, ..., -0.55573883,\n",
       "        -0.79443383, -0.50604782],\n",
       "       [-0.14438682,  0.98281684,  0.57193916, ..., -1.34315663,\n",
       "        -1.02294007, -0.37811668],\n",
       "       [-0.62745595,  0.98819463,  0.9260074 , ...,  1.50069202,\n",
       "         0.11838924, -0.03357032]])"
      ]
     },
     "execution_count": 13,
     "metadata": {},
     "output_type": "execute_result"
    }
   ],
   "source": [
    "fit = StandardScaler()\n",
    "X = fit.fit_transform(df.iloc[:, :-1])\n",
    "X"
   ]
  },
  {
   "cell_type": "code",
   "execution_count": 14,
   "id": "7d902255",
   "metadata": {},
   "outputs": [
    {
     "data": {
      "text/plain": [
       "(10498, 17)"
      ]
     },
     "execution_count": 14,
     "metadata": {},
     "output_type": "execute_result"
    }
   ],
   "source": [
    "X.shape"
   ]
  },
  {
   "cell_type": "code",
   "execution_count": 15,
   "id": "24eaf895",
   "metadata": {},
   "outputs": [
    {
     "data": {
      "text/plain": [
       "(10498, 18)"
      ]
     },
     "execution_count": 15,
     "metadata": {},
     "output_type": "execute_result"
    }
   ],
   "source": [
    "df.shape"
   ]
  },
  {
   "cell_type": "code",
   "execution_count": 16,
   "id": "10fa02b2",
   "metadata": {},
   "outputs": [],
   "source": [
    "labels = ['AFIB','GSVT','SA','SB','SR']"
   ]
  },
  {
   "cell_type": "code",
   "execution_count": null,
   "id": "bd8dc9d8",
   "metadata": {},
   "outputs": [],
   "source": []
  },
  {
   "cell_type": "markdown",
   "id": "80ddd7b6",
   "metadata": {},
   "source": [
    "### Split dataset"
   ]
  },
  {
   "cell_type": "code",
   "execution_count": 17,
   "id": "41c3bb50",
   "metadata": {},
   "outputs": [],
   "source": [
    "X_train, X_test, Y_train, Y_test = train_test_split(X, Y, test_size=0.2, random_state=100)"
   ]
  },
  {
   "cell_type": "code",
   "execution_count": 18,
   "id": "1024f7af",
   "metadata": {},
   "outputs": [
    {
     "name": "stdout",
     "output_type": "stream",
     "text": [
      "Training sample: X = (8398, 17), Y = (8398,)\n",
      "Testing sample: X = (2100, 17), Y = (2100,)\n"
     ]
    }
   ],
   "source": [
    "print(f'Training sample: X = {X_train.shape}, Y = {Y_train.shape}')\n",
    "print(f'Testing sample: X = {X_test.shape}, Y = {Y_test.shape}')"
   ]
  },
  {
   "cell_type": "code",
   "execution_count": null,
   "id": "31d61d2b",
   "metadata": {},
   "outputs": [],
   "source": []
  },
  {
   "cell_type": "code",
   "execution_count": 30,
   "id": "fe920d18",
   "metadata": {},
   "outputs": [],
   "source": [
    "class ECG:\n",
    "    def svm_classifier(self, X_train, Y_train, X_test):\n",
    "        print(\"[INFO]: Training the model...\")\n",
    "        rbf = svm.SVC(kernel=\"rbf\").fit(X_train, Y_train)\n",
    "        rbf_pred = rbf.predict(X_test)\n",
    "        return rbf_pred\n",
    "    \n",
    "    def GradientBoosting(self, X_train, Y_train, X_test):\n",
    "        print(\"[INFO]: Training the model...\")\n",
    "        model = GradientBoostingClassifier()\n",
    "        gb = model.fit(X_train, Y_train)\n",
    "        gb_pred = gb.predict(X_test)\n",
    "        return gb_pred\n",
    "    \n",
    "    def predict(self, Y_test, pred, labels):\n",
    "        rbf_acc = accuracy_score(Y_test, pred)\n",
    "        rbf_f1 = f1_score(Y_test, pred, average=\"weighted\")\n",
    "        print('\\nAccuracy (RBF Kernel): ', \"%.2f\" % (rbf_acc*100))\n",
    "        print('F1 (RBF Kernel): ', \"%.2f\" % (rbf_f1*100))\n",
    "\n",
    "        print(\"\\n==================== CONFUSION MATRIX ====================\\n\")\n",
    "        cm = confusion_matrix(Y_test, pred)\n",
    "        print(cm)\n",
    "\n",
    "        print(\"\\n==================== CLASSIFICATION REPORT ====================\\n\")\n",
    "        cr = classification_report(Y_test, pred)\n",
    "        print(cr)\n",
    "\n",
    "        print(\"\\n==================== HEATMAP ====================\\n\")\n",
    "        plt.figure(figsize=(10,7))\n",
    "        sns.heatmap(cm,annot=True, cmap=\"Blues\", xticklabels=labels, yticklabels=labels)\n",
    "        plt.xlabel('Predicted Values')\n",
    "        plt.ylabel('Actual Values')"
   ]
  },
  {
   "cell_type": "code",
   "execution_count": 53,
   "id": "19ed0828",
   "metadata": {},
   "outputs": [
    {
     "name": "stdout",
     "output_type": "stream",
     "text": [
      "[INFO]: Training the model...\n",
      "\n",
      "Accuracy (RBF Kernel):  90.57\n",
      "F1 (RBF Kernel):  90.46\n",
      "\n",
      "==================== CONFUSION MATRIX ====================\n",
      "\n",
      "[[371  35   9  15   9]\n",
      " [ 51 418   1   0   0]\n",
      " [ 15   1  37   3  15]\n",
      " [ 15   0   0 750   1]\n",
      " [  8   7   6   7 326]]\n",
      "\n",
      "==================== CLASSIFICATION REPORT ====================\n",
      "\n",
      "              precision    recall  f1-score   support\n",
      "\n",
      "           0       0.81      0.85      0.83       439\n",
      "           1       0.91      0.89      0.90       470\n",
      "           2       0.70      0.52      0.60        71\n",
      "           3       0.97      0.98      0.97       766\n",
      "           4       0.93      0.92      0.92       354\n",
      "\n",
      "    accuracy                           0.91      2100\n",
      "   macro avg       0.86      0.83      0.84      2100\n",
      "weighted avg       0.90      0.91      0.90      2100\n",
      "\n",
      "\n",
      "==================== HEATMAP ====================\n",
      "\n"
     ]
    },
    {
     "data": {
      "image/png": "[encoded data removed]",
      "text/plain": [
       "<Figure size 720x504 with 2 Axes>"
      ]
     },
     "metadata": {
      "needs_background": "light"
     },
     "output_type": "display_data"
    }
   ],
   "source": [
    "svm1 = ECG()\n",
    "svm1_pred = svm1.svm_classifier(X_train, Y_train, X_test)\n",
    "svm1.predict(Y_test, svm1_pred, labels)"
   ]
  },
  {
   "cell_type": "code",
   "execution_count": 27,
   "id": "72e822ea",
   "metadata": {},
   "outputs": [],
   "source": []
  },
  {
   "cell_type": "code",
   "execution_count": 33,
   "id": "60b36532",
   "metadata": {},
   "outputs": [
    {
     "name": "stdout",
     "output_type": "stream",
     "text": [
      "[INFO]: Training the model...\n",
      "\n",
      "Accuracy (RBF Kernel):  91.43\n",
      "F1 (RBF Kernel):  91.43\n",
      "\n",
      "==================== CONFUSION MATRIX ====================\n",
      "\n",
      "[[361  40  11  17  10]\n",
      " [ 39 430   1   0   0]\n",
      " [ 15   1  48   1   6]\n",
      " [ 12   0   1 751   2]\n",
      " [  6   2  13   3 330]]\n",
      "\n",
      "==================== CLASSIFICATION REPORT ====================\n",
      "\n",
      "              precision    recall  f1-score   support\n",
      "\n",
      "           0       0.83      0.82      0.83       439\n",
      "           1       0.91      0.91      0.91       470\n",
      "           2       0.65      0.68      0.66        71\n",
      "           3       0.97      0.98      0.98       766\n",
      "           4       0.95      0.93      0.94       354\n",
      "\n",
      "    accuracy                           0.91      2100\n",
      "   macro avg       0.86      0.87      0.86      2100\n",
      "weighted avg       0.91      0.91      0.91      2100\n",
      "\n",
      "\n",
      "==================== HEATMAP ====================\n",
      "\n"
     ]
    },
    {
     "data": {
      "image/png": "[encoded data removed]",
      "text/plain": [
       "<Figure size 720x504 with 2 Axes>"
      ]
     },
     "metadata": {
      "needs_background": "light"
     },
     "output_type": "display_data"
    }
   ],
   "source": [
    "Gb = ECG()\n",
    "gb_pred = Gb.GradientBoosting(X_train, Y_train, X_test)\n",
    "Gb.predict(Y_test, gb_pred, labels)"
   ]
  },
  {
   "cell_type": "code",
   "execution_count": null,
   "id": "bce4760c",
   "metadata": {},
   "outputs": [],
   "source": []
  }
 ],
 "metadata": {
  "kernelspec": {
   "display_name": "Python 3 (ipykernel)",
   "language": "python",
   "name": "python3"
  },
  "language_info": {
   "codemirror_mode": {
    "name": "ipython",
    "version": 3
   },
   "file_extension": ".py",
   "mimetype": "text/x-python",
   "name": "python",
   "nbconvert_exporter": "python",
   "pygments_lexer": "ipython3",
   "version": "3.8.8"
  }
 },
 "nbformat": 4,
 "nbformat_minor": 5
}
