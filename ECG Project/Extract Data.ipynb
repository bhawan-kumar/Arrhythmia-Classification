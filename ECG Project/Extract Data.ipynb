{
 "cells": [
  {
   "cell_type": "code",
   "execution_count": 24,
   "id": "d3f3bbb4",
   "metadata": {},
   "outputs": [],
   "source": [
    "import os\n",
    "import random\n",
    "import numpy as np\n",
    "import pandas as pd\n",
    "import seaborn as sns\n",
    "import matplotlib.pyplot as plt\n",
    "from sklearn.model_selection import train_test_split"
   ]
  },
  {
   "cell_type": "code",
   "execution_count": 2,
   "id": "f8ade040",
   "metadata": {},
   "outputs": [],
   "source": [
    "data_path = os.path.join(os.getcwd(), \"ECGData\")\n",
    "df = pd.read_excel(\"Diagnostics.xlsx\")"
   ]
  },
  {
   "cell_type": "code",
   "execution_count": 3,
   "id": "32148967",
   "metadata": {},
   "outputs": [],
   "source": [
    "def getFrames(files):\n",
    "    frames = []\n",
    "    col_names = ['I', 'II', 'III', 'aVR', 'aVL', 'aVF', 'V1', 'V2', 'V3', 'V4', 'V5', 'V6']\n",
    "    print(\"[INFO] Loading data...\")\n",
    "\n",
    "    for file in files:\n",
    "        csv_path = os.path.join(data_path, file)\n",
    "        df = pd.read_csv(csv_path)\n",
    "\n",
    "        row1 = df.columns\n",
    "        df.columns = col_names\n",
    "        record = {}\n",
    "\n",
    "        for i in range(12):\n",
    "            lst = row1[i].split('.')\n",
    "            if(len(lst) >= 3):\n",
    "                num = lst[0] + \".\" + lst[1]\n",
    "                record[col_names[i]] = float(num)\n",
    "            else: \n",
    "                record[col_names[i]] = float(row1[i])\n",
    "\n",
    "        record = pd.DataFrame(record, index=[0])\n",
    "        df = pd.concat([record, df])\n",
    "        frames.append(df)  \n",
    "    \n",
    "    return frames"
   ]
  },
  {
   "cell_type": "code",
   "execution_count": 4,
   "id": "48935f49",
   "metadata": {},
   "outputs": [
    {
     "data": {
      "text/html": [
       "<div>\n",
       "<style scoped>\n",
       "    .dataframe tbody tr th:only-of-type {\n",
       "        vertical-align: middle;\n",
       "    }\n",
       "\n",
       "    .dataframe tbody tr th {\n",
       "        vertical-align: top;\n",
       "    }\n",
       "\n",
       "    .dataframe thead th {\n",
       "        text-align: right;\n",
       "    }\n",
       "</style>\n",
       "<table border=\"1\" class=\"dataframe\">\n",
       "  <thead>\n",
       "    <tr style=\"text-align: right;\">\n",
       "      <th></th>\n",
       "      <th>FileName</th>\n",
       "      <th>Rhythm</th>\n",
       "      <th>Beat</th>\n",
       "      <th>PatientAge</th>\n",
       "      <th>Gender</th>\n",
       "      <th>VentricularRate</th>\n",
       "      <th>AtrialRate</th>\n",
       "      <th>QRSDuration</th>\n",
       "      <th>QTInterval</th>\n",
       "      <th>QTCorrected</th>\n",
       "      <th>RAxis</th>\n",
       "      <th>TAxis</th>\n",
       "      <th>QRSCount</th>\n",
       "      <th>QOnset</th>\n",
       "      <th>QOffset</th>\n",
       "      <th>TOffset</th>\n",
       "    </tr>\n",
       "  </thead>\n",
       "  <tbody>\n",
       "    <tr>\n",
       "      <th>0</th>\n",
       "      <td>MUSE_20180113_171327_27000</td>\n",
       "      <td>AFIB</td>\n",
       "      <td>RBBB TWC</td>\n",
       "      <td>85</td>\n",
       "      <td>MALE</td>\n",
       "      <td>117</td>\n",
       "      <td>234</td>\n",
       "      <td>114</td>\n",
       "      <td>356</td>\n",
       "      <td>496</td>\n",
       "      <td>81</td>\n",
       "      <td>-27</td>\n",
       "      <td>19</td>\n",
       "      <td>208</td>\n",
       "      <td>265</td>\n",
       "      <td>386</td>\n",
       "    </tr>\n",
       "    <tr>\n",
       "      <th>1</th>\n",
       "      <td>MUSE_20180112_073319_29000</td>\n",
       "      <td>SB</td>\n",
       "      <td>TWC</td>\n",
       "      <td>59</td>\n",
       "      <td>FEMALE</td>\n",
       "      <td>52</td>\n",
       "      <td>52</td>\n",
       "      <td>92</td>\n",
       "      <td>432</td>\n",
       "      <td>401</td>\n",
       "      <td>76</td>\n",
       "      <td>42</td>\n",
       "      <td>8</td>\n",
       "      <td>215</td>\n",
       "      <td>261</td>\n",
       "      <td>431</td>\n",
       "    </tr>\n",
       "    <tr>\n",
       "      <th>2</th>\n",
       "      <td>MUSE_20180111_165520_97000</td>\n",
       "      <td>SA</td>\n",
       "      <td>NONE</td>\n",
       "      <td>20</td>\n",
       "      <td>FEMALE</td>\n",
       "      <td>67</td>\n",
       "      <td>67</td>\n",
       "      <td>82</td>\n",
       "      <td>382</td>\n",
       "      <td>403</td>\n",
       "      <td>88</td>\n",
       "      <td>20</td>\n",
       "      <td>11</td>\n",
       "      <td>224</td>\n",
       "      <td>265</td>\n",
       "      <td>415</td>\n",
       "    </tr>\n",
       "    <tr>\n",
       "      <th>3</th>\n",
       "      <td>MUSE_20180113_121940_44000</td>\n",
       "      <td>SB</td>\n",
       "      <td>NONE</td>\n",
       "      <td>66</td>\n",
       "      <td>MALE</td>\n",
       "      <td>53</td>\n",
       "      <td>53</td>\n",
       "      <td>96</td>\n",
       "      <td>456</td>\n",
       "      <td>427</td>\n",
       "      <td>34</td>\n",
       "      <td>3</td>\n",
       "      <td>9</td>\n",
       "      <td>219</td>\n",
       "      <td>267</td>\n",
       "      <td>447</td>\n",
       "    </tr>\n",
       "    <tr>\n",
       "      <th>4</th>\n",
       "      <td>MUSE_20180112_122850_57000</td>\n",
       "      <td>AF</td>\n",
       "      <td>STDD STTC</td>\n",
       "      <td>73</td>\n",
       "      <td>FEMALE</td>\n",
       "      <td>162</td>\n",
       "      <td>162</td>\n",
       "      <td>114</td>\n",
       "      <td>252</td>\n",
       "      <td>413</td>\n",
       "      <td>68</td>\n",
       "      <td>-40</td>\n",
       "      <td>26</td>\n",
       "      <td>228</td>\n",
       "      <td>285</td>\n",
       "      <td>354</td>\n",
       "    </tr>\n",
       "    <tr>\n",
       "      <th>...</th>\n",
       "      <td>...</td>\n",
       "      <td>...</td>\n",
       "      <td>...</td>\n",
       "      <td>...</td>\n",
       "      <td>...</td>\n",
       "      <td>...</td>\n",
       "      <td>...</td>\n",
       "      <td>...</td>\n",
       "      <td>...</td>\n",
       "      <td>...</td>\n",
       "      <td>...</td>\n",
       "      <td>...</td>\n",
       "      <td>...</td>\n",
       "      <td>...</td>\n",
       "      <td>...</td>\n",
       "      <td>...</td>\n",
       "    </tr>\n",
       "    <tr>\n",
       "      <th>10641</th>\n",
       "      <td>MUSE_20181222_204306_99000</td>\n",
       "      <td>SVT</td>\n",
       "      <td>NONE</td>\n",
       "      <td>80</td>\n",
       "      <td>FEMALE</td>\n",
       "      <td>196</td>\n",
       "      <td>73</td>\n",
       "      <td>168</td>\n",
       "      <td>284</td>\n",
       "      <td>513</td>\n",
       "      <td>258</td>\n",
       "      <td>244</td>\n",
       "      <td>32</td>\n",
       "      <td>177</td>\n",
       "      <td>261</td>\n",
       "      <td>319</td>\n",
       "    </tr>\n",
       "    <tr>\n",
       "      <th>10642</th>\n",
       "      <td>MUSE_20181222_204309_22000</td>\n",
       "      <td>SVT</td>\n",
       "      <td>NONE</td>\n",
       "      <td>81</td>\n",
       "      <td>FEMALE</td>\n",
       "      <td>162</td>\n",
       "      <td>81</td>\n",
       "      <td>162</td>\n",
       "      <td>294</td>\n",
       "      <td>482</td>\n",
       "      <td>110</td>\n",
       "      <td>-75</td>\n",
       "      <td>27</td>\n",
       "      <td>173</td>\n",
       "      <td>254</td>\n",
       "      <td>320</td>\n",
       "    </tr>\n",
       "    <tr>\n",
       "      <th>10643</th>\n",
       "      <td>MUSE_20181222_204310_31000</td>\n",
       "      <td>SVT</td>\n",
       "      <td>NONE</td>\n",
       "      <td>39</td>\n",
       "      <td>MALE</td>\n",
       "      <td>152</td>\n",
       "      <td>92</td>\n",
       "      <td>152</td>\n",
       "      <td>340</td>\n",
       "      <td>540</td>\n",
       "      <td>250</td>\n",
       "      <td>38</td>\n",
       "      <td>25</td>\n",
       "      <td>208</td>\n",
       "      <td>284</td>\n",
       "      <td>378</td>\n",
       "    </tr>\n",
       "    <tr>\n",
       "      <th>10644</th>\n",
       "      <td>MUSE_20181222_204312_58000</td>\n",
       "      <td>SVT</td>\n",
       "      <td>NONE</td>\n",
       "      <td>76</td>\n",
       "      <td>MALE</td>\n",
       "      <td>175</td>\n",
       "      <td>178</td>\n",
       "      <td>128</td>\n",
       "      <td>310</td>\n",
       "      <td>529</td>\n",
       "      <td>98</td>\n",
       "      <td>-83</td>\n",
       "      <td>29</td>\n",
       "      <td>205</td>\n",
       "      <td>269</td>\n",
       "      <td>360</td>\n",
       "    </tr>\n",
       "    <tr>\n",
       "      <th>10645</th>\n",
       "      <td>MUSE_20181222_204314_78000</td>\n",
       "      <td>SVT</td>\n",
       "      <td>NONE</td>\n",
       "      <td>75</td>\n",
       "      <td>MALE</td>\n",
       "      <td>117</td>\n",
       "      <td>104</td>\n",
       "      <td>140</td>\n",
       "      <td>312</td>\n",
       "      <td>435</td>\n",
       "      <td>263</td>\n",
       "      <td>144</td>\n",
       "      <td>19</td>\n",
       "      <td>208</td>\n",
       "      <td>278</td>\n",
       "      <td>364</td>\n",
       "    </tr>\n",
       "  </tbody>\n",
       "</table>\n",
       "<p>10646 rows × 16 columns</p>\n",
       "</div>"
      ],
      "text/plain": [
       "                         FileName Rhythm       Beat  PatientAge  Gender  \\\n",
       "0      MUSE_20180113_171327_27000   AFIB   RBBB TWC          85    MALE   \n",
       "1      MUSE_20180112_073319_29000     SB        TWC          59  FEMALE   \n",
       "2      MUSE_20180111_165520_97000     SA       NONE          20  FEMALE   \n",
       "3      MUSE_20180113_121940_44000     SB       NONE          66    MALE   \n",
       "4      MUSE_20180112_122850_57000     AF  STDD STTC          73  FEMALE   \n",
       "...                           ...    ...        ...         ...     ...   \n",
       "10641  MUSE_20181222_204306_99000    SVT       NONE          80  FEMALE   \n",
       "10642  MUSE_20181222_204309_22000    SVT       NONE          81  FEMALE   \n",
       "10643  MUSE_20181222_204310_31000    SVT       NONE          39    MALE   \n",
       "10644  MUSE_20181222_204312_58000    SVT       NONE          76    MALE   \n",
       "10645  MUSE_20181222_204314_78000    SVT       NONE          75    MALE   \n",
       "\n",
       "       VentricularRate  AtrialRate  QRSDuration  QTInterval  QTCorrected  \\\n",
       "0                  117         234          114         356          496   \n",
       "1                   52          52           92         432          401   \n",
       "2                   67          67           82         382          403   \n",
       "3                   53          53           96         456          427   \n",
       "4                  162         162          114         252          413   \n",
       "...                ...         ...          ...         ...          ...   \n",
       "10641              196          73          168         284          513   \n",
       "10642              162          81          162         294          482   \n",
       "10643              152          92          152         340          540   \n",
       "10644              175         178          128         310          529   \n",
       "10645              117         104          140         312          435   \n",
       "\n",
       "       RAxis  TAxis  QRSCount  QOnset  QOffset  TOffset  \n",
       "0         81    -27        19     208      265      386  \n",
       "1         76     42         8     215      261      431  \n",
       "2         88     20        11     224      265      415  \n",
       "3         34      3         9     219      267      447  \n",
       "4         68    -40        26     228      285      354  \n",
       "...      ...    ...       ...     ...      ...      ...  \n",
       "10641    258    244        32     177      261      319  \n",
       "10642    110    -75        27     173      254      320  \n",
       "10643    250     38        25     208      284      378  \n",
       "10644     98    -83        29     205      269      360  \n",
       "10645    263    144        19     208      278      364  \n",
       "\n",
       "[10646 rows x 16 columns]"
      ]
     },
     "execution_count": 4,
     "metadata": {},
     "output_type": "execute_result"
    }
   ],
   "source": [
    "df"
   ]
  },
  {
   "cell_type": "markdown",
   "id": "8e059a66",
   "metadata": {},
   "source": [
    "## Extracting datasets names"
   ]
  },
  {
   "cell_type": "code",
   "execution_count": 5,
   "id": "4e9b6ee9",
   "metadata": {},
   "outputs": [
    {
     "data": {
      "text/plain": [
       "(2225, 16)"
      ]
     },
     "execution_count": 5,
     "metadata": {},
     "output_type": "execute_result"
    }
   ],
   "source": [
    "afib_dataset = df[(df[\"Rhythm\"] == \"AFIB\") | (df[\"Rhythm\"] == \"AF\")]\n",
    "afib_dataset.shape"
   ]
  },
  {
   "cell_type": "code",
   "execution_count": 6,
   "id": "52142724",
   "metadata": {},
   "outputs": [
    {
     "data": {
      "text/plain": [
       "(2307, 16)"
      ]
     },
     "execution_count": 6,
     "metadata": {},
     "output_type": "execute_result"
    }
   ],
   "source": [
    "gsvt_dataset = df[(df[\"Rhythm\"] == \"SVT\") | (df[\"Rhythm\"] == \"AT\") | (df[\"Rhythm\"] == \"SAAWR\") \n",
    "                  | (df[\"Rhythm\"] == \"ST\") | (df[\"Rhythm\"] == \"AVNRT\") | (df[\"Rhythm\"] == \"AVRT\")]\n",
    "gsvt_dataset.shape"
   ]
  },
  {
   "cell_type": "code",
   "execution_count": 7,
   "id": "b318d0a2",
   "metadata": {},
   "outputs": [
    {
     "data": {
      "text/plain": [
       "(3889, 16)"
      ]
     },
     "execution_count": 7,
     "metadata": {},
     "output_type": "execute_result"
    }
   ],
   "source": [
    "sb_dataset = df[df[\"Rhythm\"] == \"SB\"]\n",
    "sb_dataset.shape"
   ]
  },
  {
   "cell_type": "code",
   "execution_count": 8,
   "id": "9520cf92",
   "metadata": {},
   "outputs": [
    {
     "data": {
      "text/plain": [
       "(1826, 16)"
      ]
     },
     "execution_count": 8,
     "metadata": {},
     "output_type": "execute_result"
    }
   ],
   "source": [
    "sr_dataset = df[(df[\"Rhythm\"] == \"SR\") | (df[\"Rhythm\"] == \"SI\")]\n",
    "sr_dataset.shape"
   ]
  },
  {
   "cell_type": "markdown",
   "id": "af0aaebc",
   "metadata": {},
   "source": [
    "## Extracting files names"
   ]
  },
  {
   "cell_type": "code",
   "execution_count": 9,
   "id": "214dd68b",
   "metadata": {
    "scrolled": true
   },
   "outputs": [
    {
     "name": "stdout",
     "output_type": "stream",
     "text": [
      "Total:2225, Train:1780, Test:445\n"
     ]
    }
   ],
   "source": [
    "afib_files = np.array(afib_dataset[\"FileName\"])\n",
    "afib_files = afib_files + \".csv\"\n",
    "np.random.shuffle(afib_files)\n",
    "afib_train_files, afib_test_files = train_test_split(afib_files, test_size = 0.20)\n",
    "print(f\"Total:{len(afib_files)}, Train:{len(afib_train_files)}, Test:{len(afib_test_files)}\")"
   ]
  },
  {
   "cell_type": "code",
   "execution_count": 10,
   "id": "18a23f9c",
   "metadata": {},
   "outputs": [
    {
     "name": "stdout",
     "output_type": "stream",
     "text": [
      "Total:2307, Train:1845, Test:462\n"
     ]
    }
   ],
   "source": [
    "gsvt_files = np.array(gsvt_dataset[\"FileName\"])\n",
    "gsvt_files = gsvt_files + \".csv\"\n",
    "np.random.shuffle(gsvt_files)\n",
    "gsvt_train_files, gsvt_test_files = train_test_split(gsvt_files, test_size = 0.20)\n",
    "print(f\"Total:{len(gsvt_files)}, Train:{len(gsvt_train_files)}, Test:{len(gsvt_test_files)}\")"
   ]
  },
  {
   "cell_type": "code",
   "execution_count": 11,
   "id": "c95d76ae",
   "metadata": {},
   "outputs": [
    {
     "name": "stdout",
     "output_type": "stream",
     "text": [
      "Total:3889, Train:3111, Test:778\n"
     ]
    }
   ],
   "source": [
    "sb_files = np.array(sb_dataset[\"FileName\"])\n",
    "sb_files = sb_files + \".csv\"\n",
    "np.random.shuffle(sb_files)\n",
    "sb_train_files, sb_test_files = train_test_split(sb_files, test_size = 0.20)\n",
    "print(f\"Total:{len(sb_files)}, Train:{len(sb_train_files)}, Test:{len(sb_test_files)}\")"
   ]
  },
  {
   "cell_type": "code",
   "execution_count": 12,
   "id": "87b101a7",
   "metadata": {},
   "outputs": [
    {
     "name": "stdout",
     "output_type": "stream",
     "text": [
      "Total:1826, Train:1460, Test:366\n"
     ]
    }
   ],
   "source": [
    "sr_files = np.array(sr_dataset[\"FileName\"])\n",
    "sr_files = sr_files + \".csv\"\n",
    "np.random.shuffle(sr_files)\n",
    "sr_train_files, sr_test_files = train_test_split(sr_files, test_size = 0.20)\n",
    "print(f\"Total:{len(sr_files)}, Train:{len(sr_train_files)}, Test:{len(sr_test_files)}\")"
   ]
  },
  {
   "cell_type": "code",
   "execution_count": 13,
   "id": "949bd1a7",
   "metadata": {},
   "outputs": [
    {
     "data": {
      "text/plain": [
       "(1780,)"
      ]
     },
     "execution_count": 13,
     "metadata": {},
     "output_type": "execute_result"
    }
   ],
   "source": [
    "afib_train_files.shape"
   ]
  },
  {
   "cell_type": "code",
   "execution_count": 14,
   "id": "9aebe8c1",
   "metadata": {},
   "outputs": [
    {
     "data": {
      "text/plain": [
       "array(['MUSE_20180113_133103_27000.csv', 'MUSE_20180116_132337_80000.csv',\n",
       "       'MUSE_20180112_165701_83000.csv', 'MUSE_20180118_130022_09000.csv',\n",
       "       'MUSE_20180114_134537_10000.csv', 'MUSE_20180113_074533_79000.csv',\n",
       "       'MUSE_20180712_152013_25000.csv', 'MUSE_20180712_160114_86000.csv',\n",
       "       'MUSE_20180118_123858_80000.csv', 'MUSE_20180120_123606_25000.csv',\n",
       "       'MUSE_20180113_122611_39000.csv', 'MUSE_20180114_132336_04000.csv',\n",
       "       'MUSE_20180712_152436_45000.csv', 'MUSE_20180118_180015_52000.csv',\n",
       "       'MUSE_20180118_180427_36000.csv', 'MUSE_20180116_171441_37000.csv',\n",
       "       'MUSE_20180114_133533_28000.csv', 'MUSE_20180114_120933_46000.csv',\n",
       "       'MUSE_20180712_161228_84000.csv', 'MUSE_20180116_133520_60000.csv',\n",
       "       'MUSE_20180115_115706_86000.csv', 'MUSE_20180116_122854_54000.csv',\n",
       "       'MUSE_20180114_114956_44000.csv', 'MUSE_20180114_125554_54000.csv',\n",
       "       'MUSE_20180113_073913_53000.csv', 'MUSE_20180113_130101_56000.csv',\n",
       "       'MUSE_20180112_122555_71000.csv', 'MUSE_20180712_160446_28000.csv',\n",
       "       'MUSE_20180114_075112_43000.csv', 'MUSE_20180116_120938_80000.csv',\n",
       "       'MUSE_20180118_130409_30000.csv', 'MUSE_20180112_115332_25000.csv',\n",
       "       'MUSE_20180113_171514_33000.csv', 'MUSE_20180114_120413_74000.csv',\n",
       "       'MUSE_20180113_115345_90000.csv', 'MUSE_20180712_160402_92000.csv',\n",
       "       'MUSE_20180118_135232_95000.csv', 'MUSE_20180112_133230_46000.csv',\n",
       "       'MUSE_20180112_072315_14000.csv', 'MUSE_20180712_151952_17000.csv',\n",
       "       'MUSE_20180114_130439_69000.csv', 'MUSE_20180113_071932_50000.csv',\n",
       "       'MUSE_20180115_124308_78000.csv', 'MUSE_20180118_133247_94000.csv',\n",
       "       'MUSE_20180712_153518_42000.csv', 'MUSE_20180712_154451_30000.csv',\n",
       "       'MUSE_20180114_070727_67000.csv', 'MUSE_20180118_121713_08000.csv',\n",
       "       'MUSE_20180113_072509_31000.csv', 'MUSE_20180114_065126_49000.csv'],\n",
       "      dtype=object)"
      ]
     },
     "execution_count": 14,
     "metadata": {},
     "output_type": "execute_result"
    }
   ],
   "source": [
    "x = afib_train_files[:50]\n",
    "len(x)\n",
    "x"
   ]
  },
  {
   "cell_type": "code",
   "execution_count": 15,
   "id": "a39c1d09",
   "metadata": {},
   "outputs": [
    {
     "name": "stdout",
     "output_type": "stream",
     "text": [
      "[INFO] Loading data...\n"
     ]
    }
   ],
   "source": [
    "afib_dataframes = getFrames(afib_train_files)\n",
    "afib_train_data = pd.concat(afib_dataframes, ignore_index = True)"
   ]
  },
  {
   "cell_type": "code",
   "execution_count": 16,
   "id": "db375200",
   "metadata": {},
   "outputs": [
    {
     "data": {
      "text/html": [
       "<div>\n",
       "<style scoped>\n",
       "    .dataframe tbody tr th:only-of-type {\n",
       "        vertical-align: middle;\n",
       "    }\n",
       "\n",
       "    .dataframe tbody tr th {\n",
       "        vertical-align: top;\n",
       "    }\n",
       "\n",
       "    .dataframe thead th {\n",
       "        text-align: right;\n",
       "    }\n",
       "</style>\n",
       "<table border=\"1\" class=\"dataframe\">\n",
       "  <thead>\n",
       "    <tr style=\"text-align: right;\">\n",
       "      <th></th>\n",
       "      <th>I</th>\n",
       "      <th>II</th>\n",
       "      <th>III</th>\n",
       "      <th>aVR</th>\n",
       "      <th>aVL</th>\n",
       "      <th>aVF</th>\n",
       "      <th>V1</th>\n",
       "      <th>V2</th>\n",
       "      <th>V3</th>\n",
       "      <th>V4</th>\n",
       "      <th>V5</th>\n",
       "      <th>V6</th>\n",
       "    </tr>\n",
       "  </thead>\n",
       "  <tbody>\n",
       "    <tr>\n",
       "      <th>0</th>\n",
       "      <td>-54.18200</td>\n",
       "      <td>9.4272</td>\n",
       "      <td>70.9660</td>\n",
       "      <td>18.33000</td>\n",
       "      <td>-64.4820</td>\n",
       "      <td>28.3860</td>\n",
       "      <td>0.77393</td>\n",
       "      <td>-109.120</td>\n",
       "      <td>-100.650</td>\n",
       "      <td>-94.229</td>\n",
       "      <td>-59.3970</td>\n",
       "      <td>-40.352</td>\n",
       "    </tr>\n",
       "    <tr>\n",
       "      <th>1</th>\n",
       "      <td>-53.50200</td>\n",
       "      <td>8.5758</td>\n",
       "      <td>69.0650</td>\n",
       "      <td>18.64100</td>\n",
       "      <td>-63.4460</td>\n",
       "      <td>26.9840</td>\n",
       "      <td>0.99067</td>\n",
       "      <td>-108.580</td>\n",
       "      <td>-99.196</td>\n",
       "      <td>-92.056</td>\n",
       "      <td>-59.0850</td>\n",
       "      <td>-39.820</td>\n",
       "    </tr>\n",
       "    <tr>\n",
       "      <th>2</th>\n",
       "      <td>-52.90100</td>\n",
       "      <td>7.1787</td>\n",
       "      <td>66.6980</td>\n",
       "      <td>19.28200</td>\n",
       "      <td>-62.2180</td>\n",
       "      <td>25.0600</td>\n",
       "      <td>1.57490</td>\n",
       "      <td>-105.620</td>\n",
       "      <td>-94.785</td>\n",
       "      <td>-87.254</td>\n",
       "      <td>-57.0040</td>\n",
       "      <td>-38.297</td>\n",
       "    </tr>\n",
       "    <tr>\n",
       "      <th>3</th>\n",
       "      <td>-52.32700</td>\n",
       "      <td>4.9445</td>\n",
       "      <td>63.5240</td>\n",
       "      <td>20.38200</td>\n",
       "      <td>-60.5770</td>\n",
       "      <td>22.2670</td>\n",
       "      <td>2.73790</td>\n",
       "      <td>-98.590</td>\n",
       "      <td>-85.606</td>\n",
       "      <td>-78.315</td>\n",
       "      <td>-52.0000</td>\n",
       "      <td>-35.155</td>\n",
       "    </tr>\n",
       "    <tr>\n",
       "      <th>4</th>\n",
       "      <td>-51.61400</td>\n",
       "      <td>1.9871</td>\n",
       "      <td>59.4890</td>\n",
       "      <td>21.77800</td>\n",
       "      <td>-58.3650</td>\n",
       "      <td>18.6070</td>\n",
       "      <td>4.47740</td>\n",
       "      <td>-87.220</td>\n",
       "      <td>-71.696</td>\n",
       "      <td>-65.458</td>\n",
       "      <td>-43.9680</td>\n",
       "      <td>-30.339</td>\n",
       "    </tr>\n",
       "    <tr>\n",
       "      <th>...</th>\n",
       "      <td>...</td>\n",
       "      <td>...</td>\n",
       "      <td>...</td>\n",
       "      <td>...</td>\n",
       "      <td>...</td>\n",
       "      <td>...</td>\n",
       "      <td>...</td>\n",
       "      <td>...</td>\n",
       "      <td>...</td>\n",
       "      <td>...</td>\n",
       "      <td>...</td>\n",
       "      <td>...</td>\n",
       "    </tr>\n",
       "    <tr>\n",
       "      <th>8899995</th>\n",
       "      <td>-1.67620</td>\n",
       "      <td>2.9017</td>\n",
       "      <td>2.6111</td>\n",
       "      <td>-0.21039</td>\n",
       "      <td>-1.9172</td>\n",
       "      <td>2.5308</td>\n",
       "      <td>-15.04000</td>\n",
       "      <td>-77.929</td>\n",
       "      <td>-58.337</td>\n",
       "      <td>-45.076</td>\n",
       "      <td>-10.1370</td>\n",
       "      <td>10.095</td>\n",
       "    </tr>\n",
       "    <tr>\n",
       "      <th>8899996</th>\n",
       "      <td>-2.81270</td>\n",
       "      <td>6.6085</td>\n",
       "      <td>7.4006</td>\n",
       "      <td>-1.57610</td>\n",
       "      <td>-5.1307</td>\n",
       "      <td>6.6757</td>\n",
       "      <td>-11.91300</td>\n",
       "      <td>-70.911</td>\n",
       "      <td>-54.451</td>\n",
       "      <td>-40.429</td>\n",
       "      <td>-8.9298</td>\n",
       "      <td>11.442</td>\n",
       "    </tr>\n",
       "    <tr>\n",
       "      <th>8899997</th>\n",
       "      <td>-2.56310</td>\n",
       "      <td>11.9050</td>\n",
       "      <td>12.3930</td>\n",
       "      <td>-4.55300</td>\n",
       "      <td>-7.8803</td>\n",
       "      <td>11.7410</td>\n",
       "      <td>-9.05280</td>\n",
       "      <td>-65.168</td>\n",
       "      <td>-51.947</td>\n",
       "      <td>-36.514</td>\n",
       "      <td>-7.3996</td>\n",
       "      <td>13.915</td>\n",
       "    </tr>\n",
       "    <tr>\n",
       "      <th>8899998</th>\n",
       "      <td>-0.77931</td>\n",
       "      <td>18.5320</td>\n",
       "      <td>17.1820</td>\n",
       "      <td>-9.07710</td>\n",
       "      <td>-9.9059</td>\n",
       "      <td>17.3260</td>\n",
       "      <td>-6.56660</td>\n",
       "      <td>-61.207</td>\n",
       "      <td>-50.797</td>\n",
       "      <td>-33.593</td>\n",
       "      <td>-5.7342</td>\n",
       "      <td>17.359</td>\n",
       "    </tr>\n",
       "    <tr>\n",
       "      <th>8899999</th>\n",
       "      <td>1.98290</td>\n",
       "      <td>25.9110</td>\n",
       "      <td>21.7450</td>\n",
       "      <td>-14.53900</td>\n",
       "      <td>-11.4270</td>\n",
       "      <td>23.1170</td>\n",
       "      <td>-4.33230</td>\n",
       "      <td>-58.500</td>\n",
       "      <td>-50.446</td>\n",
       "      <td>-31.368</td>\n",
       "      <td>-4.0510</td>\n",
       "      <td>21.344</td>\n",
       "    </tr>\n",
       "  </tbody>\n",
       "</table>\n",
       "<p>8900000 rows × 12 columns</p>\n",
       "</div>"
      ],
      "text/plain": [
       "                I       II      III       aVR      aVL      aVF        V1  \\\n",
       "0       -54.18200   9.4272  70.9660  18.33000 -64.4820  28.3860   0.77393   \n",
       "1       -53.50200   8.5758  69.0650  18.64100 -63.4460  26.9840   0.99067   \n",
       "2       -52.90100   7.1787  66.6980  19.28200 -62.2180  25.0600   1.57490   \n",
       "3       -52.32700   4.9445  63.5240  20.38200 -60.5770  22.2670   2.73790   \n",
       "4       -51.61400   1.9871  59.4890  21.77800 -58.3650  18.6070   4.47740   \n",
       "...           ...      ...      ...       ...      ...      ...       ...   \n",
       "8899995  -1.67620   2.9017   2.6111  -0.21039  -1.9172   2.5308 -15.04000   \n",
       "8899996  -2.81270   6.6085   7.4006  -1.57610  -5.1307   6.6757 -11.91300   \n",
       "8899997  -2.56310  11.9050  12.3930  -4.55300  -7.8803  11.7410  -9.05280   \n",
       "8899998  -0.77931  18.5320  17.1820  -9.07710  -9.9059  17.3260  -6.56660   \n",
       "8899999   1.98290  25.9110  21.7450 -14.53900 -11.4270  23.1170  -4.33230   \n",
       "\n",
       "              V2       V3      V4       V5      V6  \n",
       "0       -109.120 -100.650 -94.229 -59.3970 -40.352  \n",
       "1       -108.580  -99.196 -92.056 -59.0850 -39.820  \n",
       "2       -105.620  -94.785 -87.254 -57.0040 -38.297  \n",
       "3        -98.590  -85.606 -78.315 -52.0000 -35.155  \n",
       "4        -87.220  -71.696 -65.458 -43.9680 -30.339  \n",
       "...          ...      ...     ...      ...     ...  \n",
       "8899995  -77.929  -58.337 -45.076 -10.1370  10.095  \n",
       "8899996  -70.911  -54.451 -40.429  -8.9298  11.442  \n",
       "8899997  -65.168  -51.947 -36.514  -7.3996  13.915  \n",
       "8899998  -61.207  -50.797 -33.593  -5.7342  17.359  \n",
       "8899999  -58.500  -50.446 -31.368  -4.0510  21.344  \n",
       "\n",
       "[8900000 rows x 12 columns]"
      ]
     },
     "execution_count": 16,
     "metadata": {},
     "output_type": "execute_result"
    }
   ],
   "source": [
    "afib_train_data"
   ]
  },
  {
   "cell_type": "code",
   "execution_count": 17,
   "id": "82c61dfb",
   "metadata": {},
   "outputs": [],
   "source": [
    "# sns.displot(data = afib_train_data)"
   ]
  },
  {
   "cell_type": "code",
   "execution_count": 55,
   "id": "0545799e",
   "metadata": {},
   "outputs": [
    {
     "name": "stdout",
     "output_type": "stream",
     "text": [
      "647\n"
     ]
    },
    {
     "data": {
      "text/plain": [
       "'MUSE_20180113_133223_30000.csv'"
      ]
     },
     "execution_count": 55,
     "metadata": {},
     "output_type": "execute_result"
    }
   ],
   "source": [
    "print(int(random.random() * len(gsvt_train_files)))\n",
    "gsvt_train_files[int(random.random() * len(gsvt_train_files))]"
   ]
  },
  {
   "cell_type": "code",
   "execution_count": 38,
   "id": "dd4910c6",
   "metadata": {},
   "outputs": [
    {
     "data": {
      "text/plain": [
       "1845"
      ]
     },
     "execution_count": 38,
     "metadata": {},
     "output_type": "execute_result"
    }
   ],
   "source": [
    "len(gsvt_train_files)"
   ]
  },
  {
   "cell_type": "code",
   "execution_count": 58,
   "id": "341e2df7",
   "metadata": {},
   "outputs": [
    {
     "data": {
      "text/plain": [
       "array(['MUSE_20180209_174646_51000.csv', 'MUSE_20180209_112119_71000.csv',\n",
       "       'MUSE_20180209_173611_82000.csv', 'MUSE_20180210_115929_22000.csv',\n",
       "       'MUSE_20180210_123111_40000.csv', 'MUSE_20180210_132310_12000.csv',\n",
       "       'MUSE_20180210_121655_81000.csv', 'MUSE_20180209_123631_33000.csv',\n",
       "       'MUSE_20180210_121321_35000.csv', 'MUSE_20180210_123325_86000.csv',\n",
       "       'MUSE_20180210_133123_70000.csv', 'MUSE_20180210_124246_00000.csv',\n",
       "       'MUSE_20180210_133119_41000.csv', 'MUSE_20180209_171824_11000.csv',\n",
       "       'MUSE_20180210_132948_45000.csv', 'MUSE_20180209_132551_67000.csv',\n",
       "       'MUSE_20180210_130006_72000.csv', 'MUSE_20180209_125344_16000.csv',\n",
       "       'MUSE_20180209_175222_29000.csv', 'MUSE_20180209_112139_49000.csv',\n",
       "       'MUSE_20180209_115942_80000.csv', 'MUSE_20180209_170424_19000.csv',\n",
       "       'MUSE_20180209_125208_73000.csv', 'MUSE_20180209_115556_82000.csv',\n",
       "       'MUSE_20180210_115458_96000.csv', 'MUSE_20180210_122938_48000.csv',\n",
       "       'MUSE_20180209_131859_81000.csv', 'MUSE_20180210_130426_69000.csv',\n",
       "       'MUSE_20180209_131145_61000.csv', 'MUSE_20180209_170222_20000.csv',\n",
       "       'MUSE_20180209_175358_35000.csv', 'MUSE_20180210_121054_17000.csv',\n",
       "       'MUSE_20180210_132242_75000.csv', 'MUSE_20180210_130956_74000.csv',\n",
       "       'MUSE_20180209_124219_41000.csv', 'MUSE_20180210_123707_21000.csv',\n",
       "       'MUSE_20180209_123621_86000.csv', 'MUSE_20180209_115211_80000.csv',\n",
       "       'MUSE_20180210_131104_64000.csv', 'MUSE_20180209_111744_13000.csv',\n",
       "       'MUSE_20180210_115354_83000.csv', 'MUSE_20180209_130800_32000.csv',\n",
       "       'MUSE_20180209_125442_21000.csv', 'MUSE_20180209_131525_61000.csv',\n",
       "       'MUSE_20180209_121947_01000.csv', 'MUSE_20180209_121424_83000.csv',\n",
       "       'MUSE_20180209_122240_19000.csv', 'MUSE_20180209_120035_39000.csv',\n",
       "       'MUSE_20180210_115748_05000.csv', 'MUSE_20180210_121822_78000.csv'],\n",
       "      dtype=object)"
      ]
     },
     "execution_count": 58,
     "metadata": {},
     "output_type": "execute_result"
    }
   ],
   "source": [
    "sr_train_files[:50]"
   ]
  },
  {
   "cell_type": "code",
   "execution_count": null,
   "id": "90c59df8",
   "metadata": {},
   "outputs": [],
   "source": []
  }
 ],
 "metadata": {
  "kernelspec": {
   "display_name": "Python 3 (ipykernel)",
   "language": "python",
   "name": "python3"
  },
  "language_info": {
   "codemirror_mode": {
    "name": "ipython",
    "version": 3
   },
   "file_extension": ".py",
   "mimetype": "text/x-python",
   "name": "python",
   "nbconvert_exporter": "python",
   "pygments_lexer": "ipython3",
   "version": "3.8.8"
  }
 },
 "nbformat": 4,
 "nbformat_minor": 5
}
